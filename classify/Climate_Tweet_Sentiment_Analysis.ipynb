{
  "nbformat": 4,
  "nbformat_minor": 0,
  "metadata": {
    "colab": {
      "name": "Climate Tweet Sentiment Analysis.ipynb",
      "provenance": [],
      "collapsed_sections": []
    },
    "kernelspec": {
      "name": "python3",
      "display_name": "Python 3"
    },
    "language_info": {
      "name": "python"
    }
  },
  "cells": [
    {
      "cell_type": "markdown",
      "source": [
        "Climate Change Belief Analysis 2022"
      ],
      "metadata": {
        "id": "GHhzk4H883q5"
      }
    },
    {
      "cell_type": "code",
      "source": [
        "# Install Comet\n",
        "!pip install comet_ml -q"
      ],
      "metadata": {
        "id": "yktq8Gk-k5WG"
      },
      "execution_count": null,
      "outputs": []
    },
    {
      "cell_type": "code",
      "source": [
        "# Import Comet package\n",
        "from comet_ml import Experiment\n",
        "\n",
        "# Setting the API key (saved as environment variable)\n",
        "\"\"\"\n",
        "Go ahead and get your api_key, project_name & workspace from your\n",
        "Comet Project Folder.\n",
        "\"\"\"\n",
        "experiment = Experiment(\n",
        "     api_key=\"CL3r4k2Kr1MFTRdavZUxjrBSy\",\n",
        "     project_name=\"team-12-advanced-classification-sentiment-analysis\",\n",
        "     workspace=\"jeniffermukami\",)\n"
      ],
      "metadata": {
        "colab": {
          "base_uri": "https://localhost:8080/"
        },
        "id": "CPXoo0fflE5F",
        "outputId": "e2c588e1-a1ee-4651-bbf0-2f23e4e19680"
      },
      "execution_count": null,
      "outputs": [
        {
          "output_type": "stream",
          "name": "stderr",
          "text": [
            "COMET INFO: ---------------------------\n",
            "COMET INFO: Comet.ml Experiment Summary\n",
            "COMET INFO: ---------------------------\n",
            "COMET INFO:   Data:\n",
            "COMET INFO:     display_summary_level : 1\n",
            "COMET INFO:     url                   : https://www.comet.ml/jeniffermukami/team-12-advanced-classification-sentiment-analysis/d2bb585a11484853bb326a3775b37dea\n",
            "COMET INFO:   Metrics:\n",
            "COMET INFO:     Accuracy : 0.7325266389741737\n",
            "COMET INFO:     f1       : 0.6421862551054156\n",
            "COMET INFO:     recall   : 0.609583622875278\n",
            "COMET INFO:   Others:\n",
            "COMET INFO:     notebook_url : https://colab.research.google.com/notebook#fileId=1JZ69erHaTLVOlmvrnssuskkimSbBc-I7\n",
            "COMET INFO:   Parameters:\n",
            "COMET INFO:     Bag of words                : count_Vectorizer\n",
            "COMET INFO:     C                           : 1.0\n",
            "COMET INFO:     algorithm                   : auto\n",
            "COMET INFO:     alpha                       : 0.1\n",
            "COMET INFO:     average                     : False\n",
            "COMET INFO:     class_prior                 : 1\n",
            "COMET INFO:     class_weight                : 1\n",
            "COMET INFO:     clf                         : SGDClassifier(alpha=0.001, max_iter=5, random_state=42, tol=None)\n",
            "COMET INFO:     clf_C                       : 100000.0\n",
            "COMET INFO:     clf__C                      : 100000.0\n",
            "COMET INFO:     clf__algorithm              : auto\n",
            "COMET INFO:     clf__alpha                  : 0.001\n",
            "COMET INFO:     clf__average                : False\n",
            "COMET INFO:     clf__class_prior            : 1\n",
            "COMET INFO:     clf__class_weight           : 1\n",
            "COMET INFO:     clf__dual                   : False\n",
            "COMET INFO:     clf__early_stopping         : False\n",
            "COMET INFO:     clf__epsilon                : 0.1\n",
            "COMET INFO:     clf__eta0                   : 0.0\n",
            "COMET INFO:     clf__fit_intercept          : True\n",
            "COMET INFO:     clf__fit_prior              : True\n",
            "COMET INFO:     clf__intercept_scaling      : 1\n",
            "COMET INFO:     clf__l1_ratio               : 0.15\n",
            "COMET INFO:     clf__leaf_size              : 30\n",
            "COMET INFO:     clf__learning_rate          : optimal\n",
            "COMET INFO:     clf__loss                   : hinge\n",
            "COMET INFO:     clf__max_iter               : 5\n",
            "COMET INFO:     clf__metric                 : minkowski\n",
            "COMET INFO:     clf__metric_params          : 1\n",
            "COMET INFO:     clf__multi_class            : ovr\n",
            "COMET INFO:     clf__n_iter_no_change       : 5\n",
            "COMET INFO:     clf__n_jobs                 : 2\n",
            "COMET INFO:     clf__n_neighbors            : 5\n",
            "COMET INFO:     clf__norm                   : False\n",
            "COMET INFO:     clf__p                      : 2\n",
            "COMET INFO:     clf__penalty                : l2\n",
            "COMET INFO:     clf__power_t                : 0.5\n",
            "COMET INFO:     clf__random_state           : 42\n",
            "COMET INFO:     clf__shuffle                : True\n",
            "COMET INFO:     clf__solver                 : lbfgs\n",
            "COMET INFO:     clf__tol                    : 2\n",
            "COMET INFO:     clf__validation_fraction    : 0.1\n",
            "COMET INFO:     clf__verbose                : 0\n",
            "COMET INFO:     clf__warm_start             : False\n",
            "COMET INFO:     clf__weights                : uniform\n",
            "COMET INFO:     clf_algorithm               : auto\n",
            "COMET INFO:     clf_alpha                   : 0.001\n",
            "COMET INFO:     clf_average                 : False\n",
            "COMET INFO:     clf_class_prior             : 1\n",
            "COMET INFO:     clf_class_weight            : 1\n",
            "COMET INFO:     clf_dual                    : False\n",
            "COMET INFO:     clf_early_stopping          : False\n",
            "COMET INFO:     clf_epsilon                 : 0.1\n",
            "COMET INFO:     clf_eta0                    : 0.0\n",
            "COMET INFO:     clf_fit_intercept           : True\n",
            "COMET INFO:     clf_fit_prior               : True\n",
            "COMET INFO:     clf_intercept_scaling       : 1\n",
            "COMET INFO:     clf_l1_ratio                : 0.15\n",
            "COMET INFO:     clf_leaf_size               : 30\n",
            "COMET INFO:     clf_learning_rate           : optimal\n",
            "COMET INFO:     clf_loss                    : hinge\n",
            "COMET INFO:     clf_max_iter                : 5\n",
            "COMET INFO:     clf_metric                  : minkowski\n",
            "COMET INFO:     clf_metric_params           : 1\n",
            "COMET INFO:     clf_multi_class             : ovr\n",
            "COMET INFO:     clf_n_iter_no_change        : 5\n",
            "COMET INFO:     clf_n_jobs                  : 2\n",
            "COMET INFO:     clf_n_neighbors             : 5\n",
            "COMET INFO:     clf_norm                    : False\n",
            "COMET INFO:     clf_p                       : 2\n",
            "COMET INFO:     clf_penalty                 : l2\n",
            "COMET INFO:     clf_power_t                 : 0.5\n",
            "COMET INFO:     clf_random_state            : 42\n",
            "COMET INFO:     clf_shuffle                 : True\n",
            "COMET INFO:     clf_solver                  : lbfgs\n",
            "COMET INFO:     clf_tol                     : 2\n",
            "COMET INFO:     clf_validation_fraction     : 0.1\n",
            "COMET INFO:     clf_verbose                 : 0\n",
            "COMET INFO:     clf_warm_start              : False\n",
            "COMET INFO:     clf_weights                 : uniform\n",
            "COMET INFO:     cv                          : 5\n",
            "COMET INFO:     dual                        : True\n",
            "COMET INFO:     early_stopping              : False\n",
            "COMET INFO:     epsilon                     : 0.1\n",
            "COMET INFO:     error_score                 : nan\n",
            "COMET INFO:     estimator                   : MultinomialNB()\n",
            "COMET INFO:     estimator__alpha            : 1.0\n",
            "COMET INFO:     estimator__class_prior      : 1\n",
            "COMET INFO:     estimator__fit_prior        : True\n",
            "COMET INFO:     eta0                        : 0.0\n",
            "COMET INFO:     fit_intercept               : True\n",
            "COMET INFO:     fit_prior                   : True\n",
            "COMET INFO:     intercept_scaling           : 1\n",
            "COMET INFO:     l1_ratio                    : 0.15\n",
            "COMET INFO:     leaf_size                   : 30\n",
            "COMET INFO:     learning_rate               : optimal\n",
            "COMET INFO:     loss                        : squared_hinge\n",
            "COMET INFO:     max_df                      : 0.9\n",
            "COMET INFO:     max_iter                    : 1000\n",
            "COMET INFO:     memory                      : 1\n",
            "COMET INFO:     metric                      : minkowski\n",
            "COMET INFO:     metric_params               : 1\n",
            "COMET INFO:     min_df                      : 1\n",
            "COMET INFO:     mnb                         : GridSearchCV(cv=5, estimator=MultinomialNB(), n_jobs=-1,\n",
            "             param_grid={'alpha': [0.1, 1, 5, 10]}, scoring='f1_weighted')\n",
            "COMET INFO:     mnb__cv                     : 5\n",
            "COMET INFO:     mnb__error_score            : nan\n",
            "COMET INFO:     mnb__estimator              : MultinomialNB()\n",
            "COMET INFO:     mnb__estimator__alpha       : 1.0\n",
            "COMET INFO:     mnb__estimator__class_prior : 1\n",
            "COMET INFO:     mnb__estimator__fit_prior   : True\n",
            "COMET INFO:     mnb__n_jobs                 : -1\n",
            "COMET INFO:     mnb__param_grid             : {\"alpha\": [0.1, 1, 5, 10]}\n",
            "COMET INFO:     mnb__pre_dispatch           : 2*n_jobs\n",
            "COMET INFO:     mnb__refit                  : True\n",
            "COMET INFO:     mnb__return_train_score     : False\n",
            "COMET INFO:     mnb__scoring                : f1_weighted\n",
            "COMET INFO:     mnb__verbose                : 0\n",
            "COMET INFO:     mnb_cv                      : 5\n",
            "COMET INFO:     mnb_error_score             : nan\n",
            "COMET INFO:     mnb_estimator               : MultinomialNB()\n",
            "COMET INFO:     mnb_estimator__alpha        : 1.0\n",
            "COMET INFO:     mnb_estimator__class_prior  : 1\n",
            "COMET INFO:     mnb_estimator__fit_prior    : True\n",
            "COMET INFO:     mnb_n_jobs                  : -1\n",
            "COMET INFO:     mnb_param_grid              : {\"alpha\": [0.1, 1, 5, 10]}\n",
            "COMET INFO:     mnb_pre_dispatch            : 2*n_jobs\n",
            "COMET INFO:     mnb_refit                   : True\n",
            "COMET INFO:     mnb_return_train_score      : False\n",
            "COMET INFO:     mnb_scoring                 : f1_weighted\n",
            "COMET INFO:     mnb_verbose                 : 0\n",
            "COMET INFO:     model_type                  : LinearSVC\n",
            "COMET INFO:     multi_class                 : ovr\n",
            "COMET INFO:     n_grams                     : (1, 2)\n",
            "COMET INFO:     n_iter_no_change            : 5\n",
            "COMET INFO:     n_jobs                      : -1\n",
            "COMET INFO:     n_neighbors                 : 5\n",
            "COMET INFO:     neg_label                   : 0\n",
            "COMET INFO:     norm                        : l2\n",
            "COMET INFO:     p                           : 2\n",
            "COMET INFO:     param_grid                  : {\"alpha\": [0.1, 1, 5, 10]}\n",
            "COMET INFO:     penalty                     : l2\n",
            "COMET INFO:     pos_label                   : 1\n",
            "COMET INFO:     power_t                     : 0.5\n",
            "COMET INFO:     pre_dispatch                : 2*n_jobs\n",
            "COMET INFO:     random_state                : 53\n",
            "COMET INFO:     refit                       : True\n",
            "COMET INFO:     return_train_score          : False\n",
            "COMET INFO:     scaler                      : Standard Scaler\n",
            "COMET INFO:     scoring                     : f1_weighted\n",
            "COMET INFO:     shuffle                     : True\n",
            "COMET INFO:     smooth_idf                  : True\n",
            "COMET INFO:     solver                      : lbfgs\n",
            "COMET INFO:     sparse_output               : False\n",
            "COMET INFO:     steps                       : [('tfidf', TfidfVectorizer(max_df=0.9, min_df=2, ngram_range=(1, 2))), ('svm', LinearSVC())]\n",
            "COMET INFO:     sublinear_tf                : False\n",
            "COMET INFO:     svm                         : LinearSVC()\n",
            "COMET INFO:     svm_C                       : 1.0\n",
            "COMET INFO:     svm__C                      : 1.0\n",
            "COMET INFO:     svm__class_weight           : 1\n",
            "COMET INFO:     svm__dual                   : True\n",
            "COMET INFO:     svm__fit_intercept          : True\n",
            "COMET INFO:     svm__intercept_scaling      : 1\n",
            "COMET INFO:     svm__loss                   : squared_hinge\n",
            "COMET INFO:     svm__max_iter               : 1000\n",
            "COMET INFO:     svm__multi_class            : ovr\n",
            "COMET INFO:     svm__penalty                : l2\n",
            "COMET INFO:     svm__random_state           : 1\n",
            "COMET INFO:     svm__tol                    : 0.0001\n",
            "COMET INFO:     svm__verbose                : 0\n",
            "COMET INFO:     svm_class_weight            : 1\n",
            "COMET INFO:     svm_dual                    : True\n",
            "COMET INFO:     svm_fit_intercept           : True\n",
            "COMET INFO:     svm_intercept_scaling       : 1\n",
            "COMET INFO:     svm_loss                    : squared_hinge\n",
            "COMET INFO:     svm_max_iter                : 1000\n",
            "COMET INFO:     svm_multi_class             : ovr\n",
            "COMET INFO:     svm_penalty                 : l2\n",
            "COMET INFO:     svm_random_state            : 1\n",
            "COMET INFO:     svm_tol                     : 0.0001\n",
            "COMET INFO:     svm_verbose                 : 0\n",
            "COMET INFO:     tfidf                       : TfidfVectorizer(max_df=0.9, min_df=2, ngram_range=(1, 2))\n",
            "COMET INFO:     tfidf__analyzer             : word\n",
            "COMET INFO:     tfidf__binary               : False\n",
            "COMET INFO:     tfidf__decode_error         : strict\n",
            "COMET INFO:     tfidf__dtype                : <class 'numpy.float64'>\n",
            "COMET INFO:     tfidf__encoding             : utf-8\n",
            "COMET INFO:     tfidf__input                : content\n",
            "COMET INFO:     tfidf__lowercase            : True\n",
            "COMET INFO:     tfidf__max_df               : 0.9\n",
            "COMET INFO:     tfidf__max_features         : 1\n",
            "COMET INFO:     tfidf__min_df               : 2\n",
            "COMET INFO:     tfidf__ngram_range          : (1, 2)\n",
            "COMET INFO:     tfidf__norm                 : l2\n",
            "COMET INFO:     tfidf__preprocessor         : 1\n",
            "COMET INFO:     tfidf__smooth_idf           : True\n",
            "COMET INFO:     tfidf__stop_words           : 1\n",
            "COMET INFO:     tfidf__strip_accents        : 1\n",
            "COMET INFO:     tfidf__sublinear_tf         : False\n",
            "COMET INFO:     tfidf__token_pattern        : (?u)\\b\\w\\w+\\b\n",
            "COMET INFO:     tfidf__tokenizer            : 1\n",
            "COMET INFO:     tfidf__use_idf              : True\n",
            "COMET INFO:     tfidf__vocabulary           : 1\n",
            "COMET INFO:     tfidf_analyzer              : word\n",
            "COMET INFO:     tfidf_binary                : False\n",
            "COMET INFO:     tfidf_decode_error          : strict\n",
            "COMET INFO:     tfidf_dtype                 : <class 'numpy.float64'>\n",
            "COMET INFO:     tfidf_encoding              : utf-8\n",
            "COMET INFO:     tfidf_input                 : content\n",
            "COMET INFO:     tfidf_lowercase             : True\n",
            "COMET INFO:     tfidf_max_df                : 0.9\n",
            "COMET INFO:     tfidf_max_features          : 1\n",
            "COMET INFO:     tfidf_min_df                : 2\n",
            "COMET INFO:     tfidf_ngram_range           : (1, 2)\n",
            "COMET INFO:     tfidf_norm                  : l2\n",
            "COMET INFO:     tfidf_preprocessor          : 1\n",
            "COMET INFO:     tfidf_smooth_idf            : True\n",
            "COMET INFO:     tfidf_stop_words            : 1\n",
            "COMET INFO:     tfidf_strip_accents         : 1\n",
            "COMET INFO:     tfidf_sublinear_tf          : False\n",
            "COMET INFO:     tfidf_token_pattern         : (?u)\\b\\w\\w+\\b\n",
            "COMET INFO:     tfidf_tokenizer             : 1\n",
            "COMET INFO:     tfidf_use_idf               : True\n",
            "COMET INFO:     tfidf_vocabulary            : 1\n",
            "COMET INFO:     tol                         : 0.0001\n",
            "COMET INFO:     use_idf                     : True\n",
            "COMET INFO:     validation_fraction         : 0.1\n",
            "COMET INFO:     verbose                     : False\n",
            "COMET INFO:     warm_start                  : False\n",
            "COMET INFO:     weights                     : uniform\n",
            "COMET INFO:   Uploads:\n",
            "COMET INFO:     confusion-matrix    : 2\n",
            "COMET INFO:     environment details : 1\n",
            "COMET INFO:     filename            : 1\n",
            "COMET INFO:     installed packages  : 1\n",
            "COMET INFO:     notebook            : 1\n",
            "COMET INFO:     os packages         : 1\n",
            "COMET INFO:     source_code         : 1\n",
            "COMET INFO: ---------------------------\n",
            "COMET ERROR: Error sending a notification, make sure you have opted-in for notifications\n",
            "COMET WARNING: As you are running in a Jupyter environment, you will need to call `experiment.end()` when finished to ensure all metrics and code are logged before exiting.\n",
            "COMET ERROR: Failed to calculate active processors count. Fall back to default CPU count 1\n",
            "COMET INFO: Couldn't find a Git repository in '/content' nor in any parent directory. You can override where Comet is looking for a Git Patch by setting the configuration `COMET_GIT_DIRECTORY`\n",
            "COMET INFO: Experiment is live on comet.ml https://www.comet.ml/jeniffermukami/team-12-advanced-classification-sentiment-analysis/9f370e5bb1dc49cb9adb0f686d455428\n",
            "\n"
          ]
        }
      ]
    },
    {
      "cell_type": "code",
      "execution_count": null,
      "metadata": {
        "id": "Brp9E7Vk82eW"
      },
      "outputs": [],
      "source": [
        "#Import packages and dependecies\n",
        "\n",
        "import pandas as pd\n",
        "import numpy as np\n",
        "import time, os\n",
        "\n",
        "#Packages for visualization\n",
        "import seaborn as sns\n",
        "import matplotlib.pyplot as plt\n",
        "import matplotlib.style as style\n",
        "\n",
        "#Packages for preprocessing\n",
        "import nltk\n",
        "import re\n",
        "from textblob import TextBlob\n",
        "from sklearn.feature_extraction.text import TfidfVectorizer\n",
        "\n",
        "#Packages for trainig models\n",
        "from sklearn.pipeline import Pipeline\n",
        "from sklearn.linear_model import LogisticRegression, SGDClassifier\n",
        "from sklearn.naive_bayes import MultinomialNB, ComplementNB\n",
        "from sklearn.svm import LinearSVC, SVC\n",
        "from sklearn.model_selection import train_test_split\n",
        "from sklearn.model_selection import GridSearchCV, KFold, cross_val_score\n",
        "from sklearn.model_selection import RepeatedStratifiedKFold\n",
        "from sklearn.neighbors import KNeighborsClassifier\n",
        "from sklearn.tree import DecisionTreeClassifier\n",
        "from sklearn.ensemble import GradientBoostingClassifier\n",
        "from sklearn.ensemble import RandomForestClassifier\n",
        "from sklearn.neural_network import MLPClassifier\n",
        "from sklearn import metrics\n",
        "from sklearn import tree\n",
        "import xgboost as xgb\n",
        "\n",
        "# Model Evaluation Packages\n",
        "from sklearn.metrics import accuracy_score, precision_score, recall_score\n",
        "from sklearn.metrics import confusion_matrix, classification_report, f1_score\n",
        "from sklearn.metrics import make_scorer\n",
        "\n",
        "import matplotlib.pyplot as plt\n",
        "%matplotlib inline"
      ]
    },
    {
      "cell_type": "code",
      "source": [
        "#load dataset\n",
        "df_test = pd.read_csv('https://raw.githubusercontent.com/2110ACDS-T12/classification-predict-streamlit-template/falalu/Project%20File/test_with_no_labels.csv')\n",
        "df_train = pd.read_csv('https://raw.githubusercontent.com/2110ACDS-T12/classification-predict-streamlit-template/falalu/Project%20File/train.csv')"
      ],
      "metadata": {
        "id": "AfpknP2c9G7m"
      },
      "execution_count": null,
      "outputs": []
    },
    {
      "cell_type": "code",
      "source": [
        "df_train.head(4)"
      ],
      "metadata": {
        "colab": {
          "base_uri": "https://localhost:8080/",
          "height": 175
        },
        "id": "utrqnknp_MM-",
        "outputId": "c33bacfb-58e9-4123-8b01-2bc86cd30ae5"
      },
      "execution_count": null,
      "outputs": [
        {
          "output_type": "execute_result",
          "data": {
            "text/plain": [
              "   sentiment                                            message  tweetid\n",
              "0          1  PolySciMajor EPA chief doesn't think carbon di...   625221\n",
              "1          1  It's not like we lack evidence of anthropogeni...   126103\n",
              "2          2  RT @RawStory: Researchers say we have three ye...   698562\n",
              "3          1  #TodayinMaker# WIRED : 2016 was a pivotal year...   573736"
            ],
            "text/html": [
              "\n",
              "  <div id=\"df-10528a52-6ea6-4d39-ba5c-9b93dfff2ab5\">\n",
              "    <div class=\"colab-df-container\">\n",
              "      <div>\n",
              "<style scoped>\n",
              "    .dataframe tbody tr th:only-of-type {\n",
              "        vertical-align: middle;\n",
              "    }\n",
              "\n",
              "    .dataframe tbody tr th {\n",
              "        vertical-align: top;\n",
              "    }\n",
              "\n",
              "    .dataframe thead th {\n",
              "        text-align: right;\n",
              "    }\n",
              "</style>\n",
              "<table border=\"1\" class=\"dataframe\">\n",
              "  <thead>\n",
              "    <tr style=\"text-align: right;\">\n",
              "      <th></th>\n",
              "      <th>sentiment</th>\n",
              "      <th>message</th>\n",
              "      <th>tweetid</th>\n",
              "    </tr>\n",
              "  </thead>\n",
              "  <tbody>\n",
              "    <tr>\n",
              "      <th>0</th>\n",
              "      <td>1</td>\n",
              "      <td>PolySciMajor EPA chief doesn't think carbon di...</td>\n",
              "      <td>625221</td>\n",
              "    </tr>\n",
              "    <tr>\n",
              "      <th>1</th>\n",
              "      <td>1</td>\n",
              "      <td>It's not like we lack evidence of anthropogeni...</td>\n",
              "      <td>126103</td>\n",
              "    </tr>\n",
              "    <tr>\n",
              "      <th>2</th>\n",
              "      <td>2</td>\n",
              "      <td>RT @RawStory: Researchers say we have three ye...</td>\n",
              "      <td>698562</td>\n",
              "    </tr>\n",
              "    <tr>\n",
              "      <th>3</th>\n",
              "      <td>1</td>\n",
              "      <td>#TodayinMaker# WIRED : 2016 was a pivotal year...</td>\n",
              "      <td>573736</td>\n",
              "    </tr>\n",
              "  </tbody>\n",
              "</table>\n",
              "</div>\n",
              "      <button class=\"colab-df-convert\" onclick=\"convertToInteractive('df-10528a52-6ea6-4d39-ba5c-9b93dfff2ab5')\"\n",
              "              title=\"Convert this dataframe to an interactive table.\"\n",
              "              style=\"display:none;\">\n",
              "        \n",
              "  <svg xmlns=\"http://www.w3.org/2000/svg\" height=\"24px\"viewBox=\"0 0 24 24\"\n",
              "       width=\"24px\">\n",
              "    <path d=\"M0 0h24v24H0V0z\" fill=\"none\"/>\n",
              "    <path d=\"M18.56 5.44l.94 2.06.94-2.06 2.06-.94-2.06-.94-.94-2.06-.94 2.06-2.06.94zm-11 1L8.5 8.5l.94-2.06 2.06-.94-2.06-.94L8.5 2.5l-.94 2.06-2.06.94zm10 10l.94 2.06.94-2.06 2.06-.94-2.06-.94-.94-2.06-.94 2.06-2.06.94z\"/><path d=\"M17.41 7.96l-1.37-1.37c-.4-.4-.92-.59-1.43-.59-.52 0-1.04.2-1.43.59L10.3 9.45l-7.72 7.72c-.78.78-.78 2.05 0 2.83L4 21.41c.39.39.9.59 1.41.59.51 0 1.02-.2 1.41-.59l7.78-7.78 2.81-2.81c.8-.78.8-2.07 0-2.86zM5.41 20L4 18.59l7.72-7.72 1.47 1.35L5.41 20z\"/>\n",
              "  </svg>\n",
              "      </button>\n",
              "      \n",
              "  <style>\n",
              "    .colab-df-container {\n",
              "      display:flex;\n",
              "      flex-wrap:wrap;\n",
              "      gap: 12px;\n",
              "    }\n",
              "\n",
              "    .colab-df-convert {\n",
              "      background-color: #E8F0FE;\n",
              "      border: none;\n",
              "      border-radius: 50%;\n",
              "      cursor: pointer;\n",
              "      display: none;\n",
              "      fill: #1967D2;\n",
              "      height: 32px;\n",
              "      padding: 0 0 0 0;\n",
              "      width: 32px;\n",
              "    }\n",
              "\n",
              "    .colab-df-convert:hover {\n",
              "      background-color: #E2EBFA;\n",
              "      box-shadow: 0px 1px 2px rgba(60, 64, 67, 0.3), 0px 1px 3px 1px rgba(60, 64, 67, 0.15);\n",
              "      fill: #174EA6;\n",
              "    }\n",
              "\n",
              "    [theme=dark] .colab-df-convert {\n",
              "      background-color: #3B4455;\n",
              "      fill: #D2E3FC;\n",
              "    }\n",
              "\n",
              "    [theme=dark] .colab-df-convert:hover {\n",
              "      background-color: #434B5C;\n",
              "      box-shadow: 0px 1px 3px 1px rgba(0, 0, 0, 0.15);\n",
              "      filter: drop-shadow(0px 1px 2px rgba(0, 0, 0, 0.3));\n",
              "      fill: #FFFFFF;\n",
              "    }\n",
              "  </style>\n",
              "\n",
              "      <script>\n",
              "        const buttonEl =\n",
              "          document.querySelector('#df-10528a52-6ea6-4d39-ba5c-9b93dfff2ab5 button.colab-df-convert');\n",
              "        buttonEl.style.display =\n",
              "          google.colab.kernel.accessAllowed ? 'block' : 'none';\n",
              "\n",
              "        async function convertToInteractive(key) {\n",
              "          const element = document.querySelector('#df-10528a52-6ea6-4d39-ba5c-9b93dfff2ab5');\n",
              "          const dataTable =\n",
              "            await google.colab.kernel.invokeFunction('convertToInteractive',\n",
              "                                                     [key], {});\n",
              "          if (!dataTable) return;\n",
              "\n",
              "          const docLinkHtml = 'Like what you see? Visit the ' +\n",
              "            '<a target=\"_blank\" href=https://colab.research.google.com/notebooks/data_table.ipynb>data table notebook</a>'\n",
              "            + ' to learn more about interactive tables.';\n",
              "          element.innerHTML = '';\n",
              "          dataTable['output_type'] = 'display_data';\n",
              "          await google.colab.output.renderOutput(dataTable, element);\n",
              "          const docLink = document.createElement('div');\n",
              "          docLink.innerHTML = docLinkHtml;\n",
              "          element.appendChild(docLink);\n",
              "        }\n",
              "      </script>\n",
              "    </div>\n",
              "  </div>\n",
              "  "
            ]
          },
          "metadata": {},
          "execution_count": 48
        }
      ]
    },
    {
      "cell_type": "code",
      "source": [
        "df_test.head(4)"
      ],
      "metadata": {
        "colab": {
          "base_uri": "https://localhost:8080/",
          "height": 175
        },
        "id": "1yANGe30_Rlb",
        "outputId": "0936ad8c-1ad6-42c3-ce58-a7386b73129c"
      },
      "execution_count": null,
      "outputs": [
        {
          "output_type": "execute_result",
          "data": {
            "text/plain": [
              "                                             message  tweetid\n",
              "0  Europe will now be looking to China to make su...   169760\n",
              "1  Combine this with the polling of staffers re c...    35326\n",
              "2  The scary, unimpeachable evidence that climate...   224985\n",
              "3  @Karoli @morgfair @OsborneInk @dailykos \\nPuti...   476263"
            ],
            "text/html": [
              "\n",
              "  <div id=\"df-eb9b24a7-29c7-42ad-b889-5acd83d765d7\">\n",
              "    <div class=\"colab-df-container\">\n",
              "      <div>\n",
              "<style scoped>\n",
              "    .dataframe tbody tr th:only-of-type {\n",
              "        vertical-align: middle;\n",
              "    }\n",
              "\n",
              "    .dataframe tbody tr th {\n",
              "        vertical-align: top;\n",
              "    }\n",
              "\n",
              "    .dataframe thead th {\n",
              "        text-align: right;\n",
              "    }\n",
              "</style>\n",
              "<table border=\"1\" class=\"dataframe\">\n",
              "  <thead>\n",
              "    <tr style=\"text-align: right;\">\n",
              "      <th></th>\n",
              "      <th>message</th>\n",
              "      <th>tweetid</th>\n",
              "    </tr>\n",
              "  </thead>\n",
              "  <tbody>\n",
              "    <tr>\n",
              "      <th>0</th>\n",
              "      <td>Europe will now be looking to China to make su...</td>\n",
              "      <td>169760</td>\n",
              "    </tr>\n",
              "    <tr>\n",
              "      <th>1</th>\n",
              "      <td>Combine this with the polling of staffers re c...</td>\n",
              "      <td>35326</td>\n",
              "    </tr>\n",
              "    <tr>\n",
              "      <th>2</th>\n",
              "      <td>The scary, unimpeachable evidence that climate...</td>\n",
              "      <td>224985</td>\n",
              "    </tr>\n",
              "    <tr>\n",
              "      <th>3</th>\n",
              "      <td>@Karoli @morgfair @OsborneInk @dailykos \\nPuti...</td>\n",
              "      <td>476263</td>\n",
              "    </tr>\n",
              "  </tbody>\n",
              "</table>\n",
              "</div>\n",
              "      <button class=\"colab-df-convert\" onclick=\"convertToInteractive('df-eb9b24a7-29c7-42ad-b889-5acd83d765d7')\"\n",
              "              title=\"Convert this dataframe to an interactive table.\"\n",
              "              style=\"display:none;\">\n",
              "        \n",
              "  <svg xmlns=\"http://www.w3.org/2000/svg\" height=\"24px\"viewBox=\"0 0 24 24\"\n",
              "       width=\"24px\">\n",
              "    <path d=\"M0 0h24v24H0V0z\" fill=\"none\"/>\n",
              "    <path d=\"M18.56 5.44l.94 2.06.94-2.06 2.06-.94-2.06-.94-.94-2.06-.94 2.06-2.06.94zm-11 1L8.5 8.5l.94-2.06 2.06-.94-2.06-.94L8.5 2.5l-.94 2.06-2.06.94zm10 10l.94 2.06.94-2.06 2.06-.94-2.06-.94-.94-2.06-.94 2.06-2.06.94z\"/><path d=\"M17.41 7.96l-1.37-1.37c-.4-.4-.92-.59-1.43-.59-.52 0-1.04.2-1.43.59L10.3 9.45l-7.72 7.72c-.78.78-.78 2.05 0 2.83L4 21.41c.39.39.9.59 1.41.59.51 0 1.02-.2 1.41-.59l7.78-7.78 2.81-2.81c.8-.78.8-2.07 0-2.86zM5.41 20L4 18.59l7.72-7.72 1.47 1.35L5.41 20z\"/>\n",
              "  </svg>\n",
              "      </button>\n",
              "      \n",
              "  <style>\n",
              "    .colab-df-container {\n",
              "      display:flex;\n",
              "      flex-wrap:wrap;\n",
              "      gap: 12px;\n",
              "    }\n",
              "\n",
              "    .colab-df-convert {\n",
              "      background-color: #E8F0FE;\n",
              "      border: none;\n",
              "      border-radius: 50%;\n",
              "      cursor: pointer;\n",
              "      display: none;\n",
              "      fill: #1967D2;\n",
              "      height: 32px;\n",
              "      padding: 0 0 0 0;\n",
              "      width: 32px;\n",
              "    }\n",
              "\n",
              "    .colab-df-convert:hover {\n",
              "      background-color: #E2EBFA;\n",
              "      box-shadow: 0px 1px 2px rgba(60, 64, 67, 0.3), 0px 1px 3px 1px rgba(60, 64, 67, 0.15);\n",
              "      fill: #174EA6;\n",
              "    }\n",
              "\n",
              "    [theme=dark] .colab-df-convert {\n",
              "      background-color: #3B4455;\n",
              "      fill: #D2E3FC;\n",
              "    }\n",
              "\n",
              "    [theme=dark] .colab-df-convert:hover {\n",
              "      background-color: #434B5C;\n",
              "      box-shadow: 0px 1px 3px 1px rgba(0, 0, 0, 0.15);\n",
              "      filter: drop-shadow(0px 1px 2px rgba(0, 0, 0, 0.3));\n",
              "      fill: #FFFFFF;\n",
              "    }\n",
              "  </style>\n",
              "\n",
              "      <script>\n",
              "        const buttonEl =\n",
              "          document.querySelector('#df-eb9b24a7-29c7-42ad-b889-5acd83d765d7 button.colab-df-convert');\n",
              "        buttonEl.style.display =\n",
              "          google.colab.kernel.accessAllowed ? 'block' : 'none';\n",
              "\n",
              "        async function convertToInteractive(key) {\n",
              "          const element = document.querySelector('#df-eb9b24a7-29c7-42ad-b889-5acd83d765d7');\n",
              "          const dataTable =\n",
              "            await google.colab.kernel.invokeFunction('convertToInteractive',\n",
              "                                                     [key], {});\n",
              "          if (!dataTable) return;\n",
              "\n",
              "          const docLinkHtml = 'Like what you see? Visit the ' +\n",
              "            '<a target=\"_blank\" href=https://colab.research.google.com/notebooks/data_table.ipynb>data table notebook</a>'\n",
              "            + ' to learn more about interactive tables.';\n",
              "          element.innerHTML = '';\n",
              "          dataTable['output_type'] = 'display_data';\n",
              "          await google.colab.output.renderOutput(dataTable, element);\n",
              "          const docLink = document.createElement('div');\n",
              "          docLink.innerHTML = docLinkHtml;\n",
              "          element.appendChild(docLink);\n",
              "        }\n",
              "      </script>\n",
              "    </div>\n",
              "  </div>\n",
              "  "
            ]
          },
          "metadata": {},
          "execution_count": 49
        }
      ]
    },
    {
      "cell_type": "code",
      "source": [
        "#info into language id\n",
        "df_train.info()\n"
      ],
      "metadata": {
        "colab": {
          "base_uri": "https://localhost:8080/"
        },
        "id": "WFoqmH_q_WKf",
        "outputId": "a0cfc913-2f0d-4f13-c316-449c27f733e7"
      },
      "execution_count": null,
      "outputs": [
        {
          "output_type": "stream",
          "name": "stdout",
          "text": [
            "<class 'pandas.core.frame.DataFrame'>\n",
            "RangeIndex: 15819 entries, 0 to 15818\n",
            "Data columns (total 3 columns):\n",
            " #   Column     Non-Null Count  Dtype \n",
            "---  ------     --------------  ----- \n",
            " 0   sentiment  15819 non-null  int64 \n",
            " 1   message    15819 non-null  object\n",
            " 2   tweetid    15819 non-null  int64 \n",
            "dtypes: int64(2), object(1)\n",
            "memory usage: 370.9+ KB\n"
          ]
        }
      ]
    },
    {
      "cell_type": "code",
      "source": [
        "sns.countplot(df_train.sentiment,)\n",
        "plt.xlabel('Sentiment')\n",
        "plt.ylabel('Number of Text')\n",
        "plt.show()"
      ],
      "metadata": {
        "colab": {
          "base_uri": "https://localhost:8080/",
          "height": 334
        },
        "id": "q7ZDqfhd_cSm",
        "outputId": "cf4dc906-cc7a-4711-c7c7-270b1ab3d852"
      },
      "execution_count": null,
      "outputs": [
        {
          "output_type": "stream",
          "name": "stderr",
          "text": [
            "/usr/local/lib/python3.7/dist-packages/seaborn/_decorators.py:43: FutureWarning: Pass the following variable as a keyword arg: x. From version 0.12, the only valid positional argument will be `data`, and passing other arguments without an explicit keyword will result in an error or misinterpretation.\n",
            "  FutureWarning\n"
          ]
        },
        {
          "output_type": "display_data",
          "data": {
            "text/plain": [
              "<Figure size 432x288 with 1 Axes>"
            ],
            "image/png": "[encoded data removed]"
          },
          "metadata": {
            "needs_background": "light"
          }
        }
      ]
    },
    {
      "cell_type": "code",
      "source": [
        "import nltk\n",
        "nltk.download('stopwords')\n",
        "nltk.download('wordnet')"
      ],
      "metadata": {
        "colab": {
          "base_uri": "https://localhost:8080/"
        },
        "id": "4M0K8qGC_x3E",
        "outputId": "7fb6f5d5-c3a5-49ef-d572-a6621596ce43"
      },
      "execution_count": null,
      "outputs": [
        {
          "output_type": "stream",
          "name": "stdout",
          "text": [
            "[nltk_data] Downloading package stopwords to /root/nltk_data...\n",
            "[nltk_data]   Package stopwords is already up-to-date!\n",
            "[nltk_data] Downloading package wordnet to /root/nltk_data...\n",
            "[nltk_data]   Package wordnet is already up-to-date!\n"
          ]
        },
        {
          "output_type": "execute_result",
          "data": {
            "text/plain": [
              "True"
            ]
          },
          "metadata": {},
          "execution_count": 52
        }
      ]
    },
    {
      "cell_type": "code",
      "source": [
        "from nltk.stem import WordNetLemmatizer"
      ],
      "metadata": {
        "id": "3kZnsdXoEUym"
      },
      "execution_count": null,
      "outputs": []
    },
    {
      "cell_type": "code",
      "source": [
        "import nltk\n",
        "stopword=nltk.corpus.stopwords.words('english')\n",
        "stopword.remove('not')\n",
        "\n",
        "extra_stopwords = [\"The\", \"It\", \"it\", \"in\", \"In\", \"wh\",\"rt\"]\n",
        "\n",
        "def processed_text(message):\n",
        "  #Removing special characters\n",
        "  #message=re.sub(r'@[\\w]*','',message)\n",
        "  #Removing urls from text\n",
        "  #message=re.sub(r'http/S+','',message)\n",
        "  #Removing Punctuations, Numbers, and Special Characters\n",
        "  #message=re.sub(r'[^A-Za-z#]',' ',message)   \n",
        "  #Removing stopword\n",
        "  message = re.sub(\"https?:\\/\\/\\S+\", \"\", message)  # replacing url with domain name\n",
        "  message = re.sub(\"#[A-Za-z0–9]+\", \" \", message)  # removing #mentions\n",
        "  message = re.sub(\"#\", \" \", message)  # removing hash tag\n",
        "  message = re.sub(\"\\n\", \" \", message)  # removing \\n\n",
        "  message = re.sub(\"@[A-Za-z0–9]+\", \"\", message)  # removing @mentions\n",
        "  message = re.sub(\"RT\", \"\", message)  # removing RT\n",
        "  message = re.sub(\"^[a-zA-Z]{1,2}$\", \"\", message)  # removing 1-2 char long words\n",
        "  message = re.sub(\"\\w*\\d\\w*\", \"\", message)  \n",
        "\n",
        "  for word in extra_stopwords:\n",
        "        message = message.replace(word, \"\")\n",
        "        \n",
        "        message = message.lower()\n",
        "    # will split and join the words\n",
        "        message=' '.join(message.split())\n",
        "  return message"
      ],
      "metadata": {
        "id": "gJOiAsIr_4f1"
      },
      "execution_count": null,
      "outputs": []
    },
    {
      "cell_type": "code",
      "source": [
        "# Application of the function to clean the tweets\n",
        "df_train['message'] = df_train['message'].apply(processed_text)\n",
        "df_test['message'] = df_test['message'].apply(processed_text)"
      ],
      "metadata": {
        "id": "DTsegBW-Aa8B"
      },
      "execution_count": null,
      "outputs": []
    },
    {
      "cell_type": "markdown",
      "source": [
        "Feature Extraction\n",
        "\n",
        "\n",
        "Split Dataset"
      ],
      "metadata": {
        "id": "IDqrvEssA4L4"
      }
    },
    {
      "cell_type": "code",
      "source": [
        "X = df_train['message']\n",
        "y = df_train['sentiment']"
      ],
      "metadata": {
        "id": "mQarykwaAxiS"
      },
      "execution_count": null,
      "outputs": []
    },
    {
      "cell_type": "markdown",
      "source": [
        "\n",
        "Splitting of Training and Validation Sets"
      ],
      "metadata": {
        "id": "CqHS0lKZBMf_"
      }
    },
    {
      "cell_type": "code",
      "source": [
        "X_train, X_val, y_train, y_val = train_test_split(X, y, test_size=0.35)"
      ],
      "metadata": {
        "id": "-d835eVOBNOi"
      },
      "execution_count": null,
      "outputs": []
    },
    {
      "cell_type": "code",
      "source": [
        "df_train.head()"
      ],
      "metadata": {
        "colab": {
          "base_uri": "https://localhost:8080/",
          "height": 206
        },
        "id": "vVnnz5_LBYtu",
        "outputId": "949076c2-9de7-4171-aebc-7023ea139720"
      },
      "execution_count": null,
      "outputs": [
        {
          "output_type": "execute_result",
          "data": {
            "text/plain": [
              "   sentiment                                            message  tweetid\n",
              "0          1  polyscimajor epa chief doesn't thk carbon diox...   625221\n",
              "1          1  's not like we lack evidence of anthropogenic ...   126103\n",
              "2          2  : researchers say we have three years to act o...   698562\n",
              "3          1  wired : was a pivotal year the war on climate ...   573736\n",
              "4          1  : 's , and a racist, sexist, climate change de...   466954"
            ],
            "text/html": [
              "\n",
              "  <div id=\"df-6a5f5266-004d-4e7b-ae5c-cd64a4ae96f0\">\n",
              "    <div class=\"colab-df-container\">\n",
              "      <div>\n",
              "<style scoped>\n",
              "    .dataframe tbody tr th:only-of-type {\n",
              "        vertical-align: middle;\n",
              "    }\n",
              "\n",
              "    .dataframe tbody tr th {\n",
              "        vertical-align: top;\n",
              "    }\n",
              "\n",
              "    .dataframe thead th {\n",
              "        text-align: right;\n",
              "    }\n",
              "</style>\n",
              "<table border=\"1\" class=\"dataframe\">\n",
              "  <thead>\n",
              "    <tr style=\"text-align: right;\">\n",
              "      <th></th>\n",
              "      <th>sentiment</th>\n",
              "      <th>message</th>\n",
              "      <th>tweetid</th>\n",
              "    </tr>\n",
              "  </thead>\n",
              "  <tbody>\n",
              "    <tr>\n",
              "      <th>0</th>\n",
              "      <td>1</td>\n",
              "      <td>polyscimajor epa chief doesn't thk carbon diox...</td>\n",
              "      <td>625221</td>\n",
              "    </tr>\n",
              "    <tr>\n",
              "      <th>1</th>\n",
              "      <td>1</td>\n",
              "      <td>'s not like we lack evidence of anthropogenic ...</td>\n",
              "      <td>126103</td>\n",
              "    </tr>\n",
              "    <tr>\n",
              "      <th>2</th>\n",
              "      <td>2</td>\n",
              "      <td>: researchers say we have three years to act o...</td>\n",
              "      <td>698562</td>\n",
              "    </tr>\n",
              "    <tr>\n",
              "      <th>3</th>\n",
              "      <td>1</td>\n",
              "      <td>wired : was a pivotal year the war on climate ...</td>\n",
              "      <td>573736</td>\n",
              "    </tr>\n",
              "    <tr>\n",
              "      <th>4</th>\n",
              "      <td>1</td>\n",
              "      <td>: 's , and a racist, sexist, climate change de...</td>\n",
              "      <td>466954</td>\n",
              "    </tr>\n",
              "  </tbody>\n",
              "</table>\n",
              "</div>\n",
              "      <button class=\"colab-df-convert\" onclick=\"convertToInteractive('df-6a5f5266-004d-4e7b-ae5c-cd64a4ae96f0')\"\n",
              "              title=\"Convert this dataframe to an interactive table.\"\n",
              "              style=\"display:none;\">\n",
              "        \n",
              "  <svg xmlns=\"http://www.w3.org/2000/svg\" height=\"24px\"viewBox=\"0 0 24 24\"\n",
              "       width=\"24px\">\n",
              "    <path d=\"M0 0h24v24H0V0z\" fill=\"none\"/>\n",
              "    <path d=\"M18.56 5.44l.94 2.06.94-2.06 2.06-.94-2.06-.94-.94-2.06-.94 2.06-2.06.94zm-11 1L8.5 8.5l.94-2.06 2.06-.94-2.06-.94L8.5 2.5l-.94 2.06-2.06.94zm10 10l.94 2.06.94-2.06 2.06-.94-2.06-.94-.94-2.06-.94 2.06-2.06.94z\"/><path d=\"M17.41 7.96l-1.37-1.37c-.4-.4-.92-.59-1.43-.59-.52 0-1.04.2-1.43.59L10.3 9.45l-7.72 7.72c-.78.78-.78 2.05 0 2.83L4 21.41c.39.39.9.59 1.41.59.51 0 1.02-.2 1.41-.59l7.78-7.78 2.81-2.81c.8-.78.8-2.07 0-2.86zM5.41 20L4 18.59l7.72-7.72 1.47 1.35L5.41 20z\"/>\n",
              "  </svg>\n",
              "      </button>\n",
              "      \n",
              "  <style>\n",
              "    .colab-df-container {\n",
              "      display:flex;\n",
              "      flex-wrap:wrap;\n",
              "      gap: 12px;\n",
              "    }\n",
              "\n",
              "    .colab-df-convert {\n",
              "      background-color: #E8F0FE;\n",
              "      border: none;\n",
              "      border-radius: 50%;\n",
              "      cursor: pointer;\n",
              "      display: none;\n",
              "      fill: #1967D2;\n",
              "      height: 32px;\n",
              "      padding: 0 0 0 0;\n",
              "      width: 32px;\n",
              "    }\n",
              "\n",
              "    .colab-df-convert:hover {\n",
              "      background-color: #E2EBFA;\n",
              "      box-shadow: 0px 1px 2px rgba(60, 64, 67, 0.3), 0px 1px 3px 1px rgba(60, 64, 67, 0.15);\n",
              "      fill: #174EA6;\n",
              "    }\n",
              "\n",
              "    [theme=dark] .colab-df-convert {\n",
              "      background-color: #3B4455;\n",
              "      fill: #D2E3FC;\n",
              "    }\n",
              "\n",
              "    [theme=dark] .colab-df-convert:hover {\n",
              "      background-color: #434B5C;\n",
              "      box-shadow: 0px 1px 3px 1px rgba(0, 0, 0, 0.15);\n",
              "      filter: drop-shadow(0px 1px 2px rgba(0, 0, 0, 0.3));\n",
              "      fill: #FFFFFF;\n",
              "    }\n",
              "  </style>\n",
              "\n",
              "      <script>\n",
              "        const buttonEl =\n",
              "          document.querySelector('#df-6a5f5266-004d-4e7b-ae5c-cd64a4ae96f0 button.colab-df-convert');\n",
              "        buttonEl.style.display =\n",
              "          google.colab.kernel.accessAllowed ? 'block' : 'none';\n",
              "\n",
              "        async function convertToInteractive(key) {\n",
              "          const element = document.querySelector('#df-6a5f5266-004d-4e7b-ae5c-cd64a4ae96f0');\n",
              "          const dataTable =\n",
              "            await google.colab.kernel.invokeFunction('convertToInteractive',\n",
              "                                                     [key], {});\n",
              "          if (!dataTable) return;\n",
              "\n",
              "          const docLinkHtml = 'Like what you see? Visit the ' +\n",
              "            '<a target=\"_blank\" href=https://colab.research.google.com/notebooks/data_table.ipynb>data table notebook</a>'\n",
              "            + ' to learn more about interactive tables.';\n",
              "          element.innerHTML = '';\n",
              "          dataTable['output_type'] = 'display_data';\n",
              "          await google.colab.output.renderOutput(dataTable, element);\n",
              "          const docLink = document.createElement('div');\n",
              "          docLink.innerHTML = docLinkHtml;\n",
              "          element.appendChild(docLink);\n",
              "        }\n",
              "      </script>\n",
              "    </div>\n",
              "  </div>\n",
              "  "
            ]
          },
          "metadata": {},
          "execution_count": 58
        }
      ]
    },
    {
      "cell_type": "markdown",
      "source": [
        "Model building"
      ],
      "metadata": {
        "id": "ZYX079ZCGOWJ"
      }
    },
    {
      "cell_type": "code",
      "source": [
        "classifiers = [LinearSVC(),\n",
        "               LogisticRegression(random_state=42,\n",
        "                                  multi_class='ovr',\n",
        "                                  n_jobs=1,\n",
        "                                  C=1e5,\n",
        "                                  max_iter=4000),\n",
        "               KNeighborsClassifier(n_neighbors=5),\n",
        "               MultinomialNB(),\n",
        "               ComplementNB(),\n",
        "               SGDClassifier(loss='hinge',\n",
        "                             penalty='l2',\n",
        "                             alpha=1e-3,\n",
        "                             random_state=42,\n",
        "                             max_iter=5,\n",
        "                             tol=None),\n",
        "                                ]"
      ],
      "metadata": {
        "id": "7LQXcVRyBouB"
      },
      "execution_count": null,
      "outputs": []
    },
    {
      "cell_type": "code",
      "source": [
        "def models_building(classifiers, X_train, y_train, X_val, y_val):\n",
        "    \n",
        "    models_summary = {}\n",
        "\n",
        "    # Pipeline to balance the classses and then to build the model\n",
        "    for clf in classifiers:\n",
        "        clf_text = Pipeline([('tfidf', TfidfVectorizer(min_df=1,\n",
        "                                                       max_df=0.9,\n",
        "                                                       ngram_range=(1, 2))),\n",
        "                             ('clf', clf)])\n",
        "\n",
        "        # Logging the Execution Time for each model\n",
        "        start_time = time.time()\n",
        "        clf_text.fit(X_train, y_train)\n",
        "        predictions = clf_text.predict(X_val)\n",
        "        run_time = time.time()-start_time\n",
        "\n",
        "        # Output for each model\n",
        "        models_summary[clf.__class__.__name__] = {\n",
        "            'F1-Macro': metrics.f1_score(y_val,\n",
        "                                         predictions,\n",
        "                                         average='macro'),\n",
        "            'F1-Accuracy': metrics.f1_score(y_val, predictions,\n",
        "                                            average='micro'),\n",
        "            'F1-Weighted': metrics.f1_score(y_val,\n",
        "                                            predictions,\n",
        "                                            average='weighted'),\n",
        "            'Execution Time': run_time}\n",
        "\n",
        "    return pd.DataFrame.from_dict(models_summary, orient='index')"
      ],
      "metadata": {
        "id": "Tb7nKnFMBfdU"
      },
      "execution_count": null,
      "outputs": []
    },
    {
      "cell_type": "code",
      "source": [
        "classifiers_df = models_building(classifiers, X_train, y_train, X_val, y_val)\n",
        "ordered_df = classifiers_df.sort_values('F1-Macro', ascending=False)\n",
        "ordered_df"
      ],
      "metadata": {
        "colab": {
          "base_uri": "https://localhost:8080/",
          "height": 237
        },
        "id": "BGcDkFmPGw59",
        "outputId": "4374e5d4-792b-4ed9-fd08-e6cd2620fbf9"
      },
      "execution_count": null,
      "outputs": [
        {
          "output_type": "execute_result",
          "data": {
            "text/plain": [
              "                      F1-Macro  F1-Accuracy  F1-Weighted  Execution Time\n",
              "LogisticRegression    0.638594     0.730359     0.717295      113.906960\n",
              "LinearSVC             0.635822     0.734513     0.718364        1.363116\n",
              "KNeighborsClassifier  0.545722     0.643670     0.637914        3.920267\n",
              "ComplementNB          0.523629     0.695142     0.650300        0.830184\n",
              "SGDClassifier         0.375781     0.625068     0.545474        0.978581\n",
              "MultinomialNB         0.339957     0.616218     0.523962        0.828139"
            ],
            "text/html": [
              "\n",
              "  <div id=\"df-97b6dfbf-c2a1-4f41-afab-2a535ce21717\">\n",
              "    <div class=\"colab-df-container\">\n",
              "      <div>\n",
              "<style scoped>\n",
              "    .dataframe tbody tr th:only-of-type {\n",
              "        vertical-align: middle;\n",
              "    }\n",
              "\n",
              "    .dataframe tbody tr th {\n",
              "        vertical-align: top;\n",
              "    }\n",
              "\n",
              "    .dataframe thead th {\n",
              "        text-align: right;\n",
              "    }\n",
              "</style>\n",
              "<table border=\"1\" class=\"dataframe\">\n",
              "  <thead>\n",
              "    <tr style=\"text-align: right;\">\n",
              "      <th></th>\n",
              "      <th>F1-Macro</th>\n",
              "      <th>F1-Accuracy</th>\n",
              "      <th>F1-Weighted</th>\n",
              "      <th>Execution Time</th>\n",
              "    </tr>\n",
              "  </thead>\n",
              "  <tbody>\n",
              "    <tr>\n",
              "      <th>LogisticRegression</th>\n",
              "      <td>0.638594</td>\n",
              "      <td>0.730359</td>\n",
              "      <td>0.717295</td>\n",
              "      <td>113.906960</td>\n",
              "    </tr>\n",
              "    <tr>\n",
              "      <th>LinearSVC</th>\n",
              "      <td>0.635822</td>\n",
              "      <td>0.734513</td>\n",
              "      <td>0.718364</td>\n",
              "      <td>1.363116</td>\n",
              "    </tr>\n",
              "    <tr>\n",
              "      <th>KNeighborsClassifier</th>\n",
              "      <td>0.545722</td>\n",
              "      <td>0.643670</td>\n",
              "      <td>0.637914</td>\n",
              "      <td>3.920267</td>\n",
              "    </tr>\n",
              "    <tr>\n",
              "      <th>ComplementNB</th>\n",
              "      <td>0.523629</td>\n",
              "      <td>0.695142</td>\n",
              "      <td>0.650300</td>\n",
              "      <td>0.830184</td>\n",
              "    </tr>\n",
              "    <tr>\n",
              "      <th>SGDClassifier</th>\n",
              "      <td>0.375781</td>\n",
              "      <td>0.625068</td>\n",
              "      <td>0.545474</td>\n",
              "      <td>0.978581</td>\n",
              "    </tr>\n",
              "    <tr>\n",
              "      <th>MultinomialNB</th>\n",
              "      <td>0.339957</td>\n",
              "      <td>0.616218</td>\n",
              "      <td>0.523962</td>\n",
              "      <td>0.828139</td>\n",
              "    </tr>\n",
              "  </tbody>\n",
              "</table>\n",
              "</div>\n",
              "      <button class=\"colab-df-convert\" onclick=\"convertToInteractive('df-97b6dfbf-c2a1-4f41-afab-2a535ce21717')\"\n",
              "              title=\"Convert this dataframe to an interactive table.\"\n",
              "              style=\"display:none;\">\n",
              "        \n",
              "  <svg xmlns=\"http://www.w3.org/2000/svg\" height=\"24px\"viewBox=\"0 0 24 24\"\n",
              "       width=\"24px\">\n",
              "    <path d=\"M0 0h24v24H0V0z\" fill=\"none\"/>\n",
              "    <path d=\"M18.56 5.44l.94 2.06.94-2.06 2.06-.94-2.06-.94-.94-2.06-.94 2.06-2.06.94zm-11 1L8.5 8.5l.94-2.06 2.06-.94-2.06-.94L8.5 2.5l-.94 2.06-2.06.94zm10 10l.94 2.06.94-2.06 2.06-.94-2.06-.94-.94-2.06-.94 2.06-2.06.94z\"/><path d=\"M17.41 7.96l-1.37-1.37c-.4-.4-.92-.59-1.43-.59-.52 0-1.04.2-1.43.59L10.3 9.45l-7.72 7.72c-.78.78-.78 2.05 0 2.83L4 21.41c.39.39.9.59 1.41.59.51 0 1.02-.2 1.41-.59l7.78-7.78 2.81-2.81c.8-.78.8-2.07 0-2.86zM5.41 20L4 18.59l7.72-7.72 1.47 1.35L5.41 20z\"/>\n",
              "  </svg>\n",
              "      </button>\n",
              "      \n",
              "  <style>\n",
              "    .colab-df-container {\n",
              "      display:flex;\n",
              "      flex-wrap:wrap;\n",
              "      gap: 12px;\n",
              "    }\n",
              "\n",
              "    .colab-df-convert {\n",
              "      background-color: #E8F0FE;\n",
              "      border: none;\n",
              "      border-radius: 50%;\n",
              "      cursor: pointer;\n",
              "      display: none;\n",
              "      fill: #1967D2;\n",
              "      height: 32px;\n",
              "      padding: 0 0 0 0;\n",
              "      width: 32px;\n",
              "    }\n",
              "\n",
              "    .colab-df-convert:hover {\n",
              "      background-color: #E2EBFA;\n",
              "      box-shadow: 0px 1px 2px rgba(60, 64, 67, 0.3), 0px 1px 3px 1px rgba(60, 64, 67, 0.15);\n",
              "      fill: #174EA6;\n",
              "    }\n",
              "\n",
              "    [theme=dark] .colab-df-convert {\n",
              "      background-color: #3B4455;\n",
              "      fill: #D2E3FC;\n",
              "    }\n",
              "\n",
              "    [theme=dark] .colab-df-convert:hover {\n",
              "      background-color: #434B5C;\n",
              "      box-shadow: 0px 1px 3px 1px rgba(0, 0, 0, 0.15);\n",
              "      filter: drop-shadow(0px 1px 2px rgba(0, 0, 0, 0.3));\n",
              "      fill: #FFFFFF;\n",
              "    }\n",
              "  </style>\n",
              "\n",
              "      <script>\n",
              "        const buttonEl =\n",
              "          document.querySelector('#df-97b6dfbf-c2a1-4f41-afab-2a535ce21717 button.colab-df-convert');\n",
              "        buttonEl.style.display =\n",
              "          google.colab.kernel.accessAllowed ? 'block' : 'none';\n",
              "\n",
              "        async function convertToInteractive(key) {\n",
              "          const element = document.querySelector('#df-97b6dfbf-c2a1-4f41-afab-2a535ce21717');\n",
              "          const dataTable =\n",
              "            await google.colab.kernel.invokeFunction('convertToInteractive',\n",
              "                                                     [key], {});\n",
              "          if (!dataTable) return;\n",
              "\n",
              "          const docLinkHtml = 'Like what you see? Visit the ' +\n",
              "            '<a target=\"_blank\" href=https://colab.research.google.com/notebooks/data_table.ipynb>data table notebook</a>'\n",
              "            + ' to learn more about interactive tables.';\n",
              "          element.innerHTML = '';\n",
              "          dataTable['output_type'] = 'display_data';\n",
              "          await google.colab.output.renderOutput(dataTable, element);\n",
              "          const docLink = document.createElement('div');\n",
              "          docLink.innerHTML = docLinkHtml;\n",
              "          element.appendChild(docLink);\n",
              "        }\n",
              "      </script>\n",
              "    </div>\n",
              "  </div>\n",
              "  "
            ]
          },
          "metadata": {},
          "execution_count": 61
        }
      ]
    },
    {
      "cell_type": "markdown",
      "source": [
        "\n",
        "Hyperparameter Tuning on Most Performing Models"
      ],
      "metadata": {
        "id": "RpfXfjhgG5Bd"
      }
    },
    {
      "cell_type": "code",
      "source": [
        "# Creating a pipeline for the gridsearch with mnb classifier\n",
        "param_grid = {'alpha': [0.1, 1, 5, 10]}  # setting parameter grid\n",
        "\n",
        "tuned_mnb = Pipeline([('tfidf', TfidfVectorizer(min_df=2,\n",
        "                                                max_df=0.9,\n",
        "                                                ngram_range=(1, 2))),\n",
        "                      ('mnb', GridSearchCV(MultinomialNB(),\n",
        "                                           param_grid=param_grid,\n",
        "                                           cv=5,\n",
        "                                           n_jobs=-1,\n",
        "                                           scoring='f1_weighted'))\n",
        "                      ])\n",
        "\n",
        "tuned_mnb.fit(X_train, y_train)  # Fitting the model\n",
        "\n",
        "y_pred_mnb = tuned_mnb.predict(X_val)  # predicting the fit on validation set\n",
        "\n",
        "print(classification_report(y_val, y_pred_mnb))"
      ],
      "metadata": {
        "colab": {
          "base_uri": "https://localhost:8080/"
        },
        "id": "7B6PrAE4VMRa",
        "outputId": "dcd205aa-f9ff-42bd-d3d3-3aec8b55edd4"
      },
      "execution_count": null,
      "outputs": [
        {
          "output_type": "stream",
          "name": "stdout",
          "text": [
            "              precision    recall  f1-score   support\n",
            "\n",
            "          -1       0.73      0.32      0.44       452\n",
            "           0       0.61      0.33      0.43       831\n",
            "           1       0.71      0.90      0.79      2988\n",
            "           2       0.77      0.67      0.72      1266\n",
            "\n",
            "    accuracy                           0.71      5537\n",
            "   macro avg       0.70      0.55      0.59      5537\n",
            "weighted avg       0.71      0.71      0.69      5537\n",
            "\n"
          ]
        }
      ]
    },
    {
      "cell_type": "code",
      "source": [
        "acc = accuracy_score(y_val, y_pred_mnb)\n",
        "acc = round((acc*100),2)\n",
        "print('Accuracy: ',acc,'%')"
      ],
      "metadata": {
        "colab": {
          "base_uri": "https://localhost:8080/"
        },
        "id": "CtGGmPAcbXVD",
        "outputId": "13705003-998e-450a-a4a4-4c6f8ba9fc10"
      },
      "execution_count": null,
      "outputs": [
        {
          "output_type": "stream",
          "name": "stdout",
          "text": [
            "Accuracy:  71.19 %\n"
          ]
        }
      ]
    },
    {
      "cell_type": "code",
      "source": [
        "# Creating a pipeline for the gridsearch\n",
        "param_grid = {'alpha': [0.1, 1, 5, 10]}  # setting parameter grid\n",
        "\n",
        "linearSVC = Pipeline([('tfidf', TfidfVectorizer(min_df=2,\n",
        "                                                max_df=0.9,\n",
        "                                                ngram_range=(1, 2))),\n",
        "                      ('svm',LinearSVC())\n",
        "                      ])\n",
        "                      \n",
        "\n",
        "\n",
        "\"\"\"\n",
        "param_grid = {'SVC__C':np.arange(0.01,100,10)}\n",
        "linearSVC = GridSearchCV(SVCpipe,param_grid,cv=5,return_train_score=True)\n",
        "linearSVC.fit(X_train,y_train)\n",
        "\n",
        "\n",
        "# Retrain linear SVC using optimal hyperparameters:\n",
        "lsvc_op = Pipeline([('tfidf', TfidfVectorizer(max_df=0.8,\n",
        "                                                    min_df=2,\n",
        "                                                    ngram_range=(1,2))),\n",
        "                  ('clf', LinearSVC(C=0.3,\n",
        "                                    class_weight='balanced',\n",
        "                                    max_iter=3000))])\n",
        "\n",
        "\n",
        "\"\"\"\n",
        "\n",
        "\n",
        "\n",
        "linearSVC.fit(X_train, y_train)  # Fitting the model\n",
        "\n",
        "y_pred_linearSVC = linearSVC.predict(X_val)  # predicting the fit on validation set\n",
        "\n",
        "print(classification_report(y_val, y_pred_linearSVC))"
      ],
      "metadata": {
        "colab": {
          "base_uri": "https://localhost:8080/"
        },
        "id": "l7WbW3o9UrfX",
        "outputId": "48488a01-2b6d-4f77-d3ed-60779d7b316b"
      },
      "execution_count": null,
      "outputs": [
        {
          "output_type": "stream",
          "name": "stdout",
          "text": [
            "              precision    recall  f1-score   support\n",
            "\n",
            "          -1       0.71      0.42      0.53       452\n",
            "           0       0.58      0.45      0.51       831\n",
            "           1       0.75      0.87      0.81      2988\n",
            "           2       0.75      0.70      0.73      1266\n",
            "\n",
            "    accuracy                           0.73      5537\n",
            "   macro avg       0.70      0.61      0.64      5537\n",
            "weighted avg       0.72      0.73      0.72      5537\n",
            "\n"
          ]
        }
      ]
    },
    {
      "cell_type": "code",
      "source": [
        "from sklearn.metrics import confusion_matrix,classification_report,accuracy_score"
      ],
      "metadata": {
        "id": "zxo8RpLPaQPy"
      },
      "execution_count": null,
      "outputs": []
    },
    {
      "cell_type": "code",
      "source": [
        "print(confusion_matrix(y_val, y_pred_linearSVC))"
      ],
      "metadata": {
        "colab": {
          "base_uri": "https://localhost:8080/"
        },
        "id": "_I328moqaSa5",
        "outputId": "e76ce4e5-c095-491b-8b86-835a78d322a5"
      },
      "execution_count": null,
      "outputs": [
        {
          "output_type": "stream",
          "name": "stdout",
          "text": [
            "[[ 189   72  167   24]\n",
            " [  29  373  373   56]\n",
            " [  31  149 2592  216]\n",
            " [  19   48  310  889]]\n"
          ]
        }
      ]
    },
    {
      "cell_type": "code",
      "source": [
        "acc = accuracy_score(y_val, y_pred_linearSVC)\n",
        "acc = round((acc*100),2)\n",
        "print('Accuracy: ',acc,'%')"
      ],
      "metadata": {
        "colab": {
          "base_uri": "https://localhost:8080/"
        },
        "id": "KZ54ztc-bBN-",
        "outputId": "2c9c1bc3-f111-433c-8961-b8cfa9f9a335"
      },
      "execution_count": null,
      "outputs": [
        {
          "output_type": "stream",
          "name": "stdout",
          "text": [
            "Accuracy:  73.02 %\n"
          ]
        }
      ]
    },
    {
      "cell_type": "markdown",
      "source": [
        "Saving the Model"
      ],
      "metadata": {
        "id": "QBdn_8E1l2_g"
      }
    },
    {
      "cell_type": "code",
      "source": [
        "#import pickle\n",
        "#filename = \"trained_model.sav\"\n",
        "#pickle.dump(linearSVC, open(filename, \"wb\"))"
      ],
      "metadata": {
        "id": "neTCRzsVl2sw"
      },
      "execution_count": null,
      "outputs": []
    },
    {
      "cell_type": "code",
      "source": [
        "#loaded model\n",
        "#loaded_model = pickle.load(open(\"/content/trained_model.sav\", \"rb\"))"
      ],
      "metadata": {
        "id": "4_8PsflsGe3b"
      },
      "execution_count": null,
      "outputs": []
    },
    {
      "cell_type": "code",
      "source": [
        "#submission_df = pd.DataFrame(df_test['tweetid'])\n",
        "#submission_df['sentiment'] = linearSVC.predict(df_test['message'])\n",
        "#submission_df.to_csv('tweet_sentiment2.csv', index=False)"
      ],
      "metadata": {
        "id": "Nc_pJ73dHzei"
      },
      "execution_count": null,
      "outputs": []
    },
    {
      "cell_type": "code",
      "source": [
        "\n",
        "#tweet_input = [input('enter a text: ')]\n",
        "#prediction=loaded_model.predict(tweet_input)\n",
        "\n",
        "#if prediction < 0:\n",
        " #   print(\"Negative\")\n",
        "#elif prediction == 0:\n",
        " #   print(\"Neutral\")\n",
        "#else:\n",
        " #   print(\"Positive\")\n"
      ],
      "metadata": {
        "id": "Dgbnib-5D1k8"
      },
      "execution_count": null,
      "outputs": []
    },
    {
      "cell_type": "code",
      "source": [
        "# Create dictionaries for the data we want to log\n",
        "# This had to be defined since that applied to our model is the best from the grid search.\n",
        "params ={\"random_state\": 45,\n",
        "         \"model_type \": \"LinearSVC\",\n",
        "         \"Bag of words\": \"count_Vectorizer\",\n",
        "         \"scaler\": \"Standard Scaler\",\n",
        "         \"min_df\": 1,\n",
        "         \"max_df\": 0.9,\n",
        "         \"n_grams\": \"(1, 2)\"\n",
        "        }\n",
        "\n",
        "nb_metrics ={\"Accuracy\": metrics.accuracy_score(y_val, y_pred_linearSVC),\n",
        "             \"recall\": metrics.recall_score(y_val, y_pred_linearSVC, average='macro'),\n",
        "             \"f1\": metrics.f1_score(y_val, y_pred_linearSVC, average='macro'),\n",
        "#              \"Classification_Report\": classification_report(y_val, y_pred)\n",
        "            }\n",
        "\n",
        "confusionmatrix = confusion_matrix(y_val, y_pred_linearSVC)"
      ],
      "metadata": {
        "id": "nuhTOYJxNjtW"
      },
      "execution_count": null,
      "outputs": []
    },
    {
      "cell_type": "code",
      "source": [
        "#log parameters and results\n",
        "experiment.log_parameters(params)\n",
        "experiment.log_metrics(nb_metrics)\n",
        "experiment.log_notebook('5.0 Advance_Classification_Notebook.ipynb', overwrite=False)\n",
        "experiment.log_confusion_matrix(labels=[\"News\", \"pro\", \"Neutral\",\"Anti\"], matrix=confusionmatrix)"
      ],
      "metadata": {
        "colab": {
          "base_uri": "https://localhost:8080/"
        },
        "id": "ooLiheRxOhPd",
        "outputId": "b3554209-d316-47cb-b553-8aae44484994"
      },
      "execution_count": null,
      "outputs": [
        {
          "output_type": "stream",
          "name": "stderr",
          "text": [
            "COMET ERROR: We failed to read file 5.0 Advance_Classification_Notebook.ipynb for uploading.\n",
            "Please double-check the file path and permissions\n"
          ]
        },
        {
          "output_type": "execute_result",
          "data": {
            "text/plain": [
              "{'api': 'https://www.comet.ml/api/rest/v2/experiment/asset/get-asset?assetId=b34bf6e4e664425e9e091e56b1fd0f76&experimentKey=9f370e5bb1dc49cb9adb0f686d455428',\n",
              " 'assetId': 'b34bf6e4e664425e9e091e56b1fd0f76',\n",
              " 'web': 'https://www.comet.ml/api/asset/download?assetId=b34bf6e4e664425e9e091e56b1fd0f76&experimentKey=9f370e5bb1dc49cb9adb0f686d455428'}"
            ]
          },
          "metadata": {},
          "execution_count": 73
        }
      ]
    },
    {
      "cell_type": "code",
      "source": [
        "\"\"\"\n",
        "# Saving each metric to add to a dictionary for logging\n",
        "f1 = f1_score(y_valid, y_pred, average='weighted')\n",
        "precision = precision_score(y_valid, y_pred, average='weighted')\n",
        "recall = recall_score(y_valid, y_pred, average='weighted')\n",
        "\n",
        "# Create dictionaries for the data we want to log          \n",
        "metrics = {\"f1\": f1,\n",
        "           \"recall\": recall,\n",
        "           \"precision\": precision}\n",
        "\n",
        "params= {'classifier': 'linear SVC',\n",
        "         'max_df': 0.8,\n",
        "         'min_df': 2,\n",
        "         'ngram_range': '(1,2)',\n",
        "         'vectorizer': 'Tfidf',\n",
        "         'scaling': 'no',\n",
        "         'resampling': 'no',\n",
        "         'test_train random state': '0'}\n",
        "  \n",
        "# Log info on comet\n",
        "experiment.log_metrics(metrics)\n",
        "experiment.log_parameters(params)\n",
        "\n",
        "# End experiment\n",
        "experiment.end()\n",
        "\n",
        "# Display results on comet page\n",
        "experiment.display()\n",
        "\n",
        "\"\"\""
      ],
      "metadata": {
        "id": "kZhDo_uaOuQQ"
      },
      "execution_count": null,
      "outputs": []
    }
  ]
}